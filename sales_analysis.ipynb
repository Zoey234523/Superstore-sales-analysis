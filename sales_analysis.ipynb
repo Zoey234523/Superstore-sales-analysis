{
  "nbformat": 4,
  "nbformat_minor": 0,
  "metadata": {
    "colab": {
      "provenance": [],
      "collapsed_sections": [
        "D13TZ0wWJSyL"
      ]
    },
    "kernelspec": {
      "name": "python3",
      "display_name": "Python 3"
    },
    "language_info": {
      "name": "python"
    }
  },
  "cells": [
    {
      "cell_type": "code",
      "execution_count": null,
      "metadata": {
        "id": "TAJZqz6FXaYy"
      },
      "outputs": [],
      "source": [
        "import pandas as pd"
      ]
    },
    {
      "cell_type": "code",
      "source": [
        "try:\n",
        "    df = pd.read_csv('/content/Sample - Superstore.csv', encoding='latin-1')\n",
        "    print(\"the file is loaded\")\n",
        "    print(df.head())\n",
        "except UnicodeDecodeError as e:\n",
        "    print(f\"failed: {e}\")"
      ],
      "metadata": {
        "id": "ihSAbIRsn4Vw",
        "colab": {
          "base_uri": "https://localhost:8080/"
        },
        "outputId": "e7d4d5a8-8fa8-4f27-f2f0-859ad518e6b6"
      },
      "execution_count": null,
      "outputs": [
        {
          "output_type": "stream",
          "name": "stdout",
          "text": [
            "the file is loaded\n",
            "   Row ID        Order ID  Order Date   Ship Date       Ship Mode Customer ID  \\\n",
            "0       1  CA-2016-152156   11/8/2016  11/11/2016    Second Class    CG-12520   \n",
            "1       2  CA-2016-152156   11/8/2016  11/11/2016    Second Class    CG-12520   \n",
            "2       3  CA-2016-138688   6/12/2016   6/16/2016    Second Class    DV-13045   \n",
            "3       4  US-2015-108966  10/11/2015  10/18/2015  Standard Class    SO-20335   \n",
            "4       5  US-2015-108966  10/11/2015  10/18/2015  Standard Class    SO-20335   \n",
            "\n",
            "     Customer Name    Segment        Country             City  ...  \\\n",
            "0      Claire Gute   Consumer  United States        Henderson  ...   \n",
            "1      Claire Gute   Consumer  United States        Henderson  ...   \n",
            "2  Darrin Van Huff  Corporate  United States      Los Angeles  ...   \n",
            "3   Sean O'Donnell   Consumer  United States  Fort Lauderdale  ...   \n",
            "4   Sean O'Donnell   Consumer  United States  Fort Lauderdale  ...   \n",
            "\n",
            "  Postal Code  Region       Product ID         Category Sub-Category  \\\n",
            "0       42420   South  FUR-BO-10001798        Furniture    Bookcases   \n",
            "1       42420   South  FUR-CH-10000454        Furniture       Chairs   \n",
            "2       90036    West  OFF-LA-10000240  Office Supplies       Labels   \n",
            "3       33311   South  FUR-TA-10000577        Furniture       Tables   \n",
            "4       33311   South  OFF-ST-10000760  Office Supplies      Storage   \n",
            "\n",
            "                                        Product Name     Sales  Quantity  \\\n",
            "0                  Bush Somerset Collection Bookcase  261.9600         2   \n",
            "1  Hon Deluxe Fabric Upholstered Stacking Chairs,...  731.9400         3   \n",
            "2  Self-Adhesive Address Labels for Typewriters b...   14.6200         2   \n",
            "3      Bretford CR4500 Series Slim Rectangular Table  957.5775         5   \n",
            "4                     Eldon Fold 'N Roll Cart System   22.3680         2   \n",
            "\n",
            "   Discount    Profit  \n",
            "0      0.00   41.9136  \n",
            "1      0.00  219.5820  \n",
            "2      0.00    6.8714  \n",
            "3      0.45 -383.0310  \n",
            "4      0.20    2.5164  \n",
            "\n",
            "[5 rows x 21 columns]\n"
          ]
        }
      ]
    },
    {
      "cell_type": "code",
      "source": [
        "df.columns"
      ],
      "metadata": {
        "colab": {
          "base_uri": "https://localhost:8080/"
        },
        "id": "Pi-eWPoJoZ5a",
        "outputId": "a68d7dc5-13be-41ed-9361-ae84f1e2cc88"
      },
      "execution_count": null,
      "outputs": [
        {
          "output_type": "execute_result",
          "data": {
            "text/plain": [
              "Index(['Row ID', 'Order ID', 'Order Date', 'Ship Date', 'Ship Mode',\n",
              "       'Customer ID', 'Customer Name', 'Segment', 'Country', 'City', 'State',\n",
              "       'Postal Code', 'Region', 'Product ID', 'Category', 'Sub-Category',\n",
              "       'Product Name', 'Sales', 'Quantity', 'Discount', 'Profit'],\n",
              "      dtype='object')"
            ]
          },
          "metadata": {},
          "execution_count": 3
        }
      ]
    },
    {
      "cell_type": "markdown",
      "source": [
        "###Data Cleaning"
      ],
      "metadata": {
        "id": "Wp7Etl_kArWe"
      }
    },
    {
      "cell_type": "markdown",
      "source": [
        "##EDA"
      ],
      "metadata": {
        "id": "Tne2-lBIAp_W"
      }
    },
    {
      "cell_type": "code",
      "source": [
        "print(df.head())  # 5 first rows\n",
        "print(df.tail(3)) # 3 last rows"
      ],
      "metadata": {
        "colab": {
          "base_uri": "https://localhost:8080/"
        },
        "id": "Dajdn5opAYUd",
        "outputId": "b9fc4e9c-d1a1-4b2b-f770-754640d1a893"
      },
      "execution_count": null,
      "outputs": [
        {
          "output_type": "stream",
          "name": "stdout",
          "text": [
            "   Row ID        Order ID  Order Date   Ship Date       Ship Mode Customer ID  \\\n",
            "0       1  CA-2016-152156   11/8/2016  11/11/2016    Second Class    CG-12520   \n",
            "1       2  CA-2016-152156   11/8/2016  11/11/2016    Second Class    CG-12520   \n",
            "2       3  CA-2016-138688   6/12/2016   6/16/2016    Second Class    DV-13045   \n",
            "3       4  US-2015-108966  10/11/2015  10/18/2015  Standard Class    SO-20335   \n",
            "4       5  US-2015-108966  10/11/2015  10/18/2015  Standard Class    SO-20335   \n",
            "\n",
            "     Customer Name    Segment        Country             City  ...  \\\n",
            "0      Claire Gute   Consumer  United States        Henderson  ...   \n",
            "1      Claire Gute   Consumer  United States        Henderson  ...   \n",
            "2  Darrin Van Huff  Corporate  United States      Los Angeles  ...   \n",
            "3   Sean O'Donnell   Consumer  United States  Fort Lauderdale  ...   \n",
            "4   Sean O'Donnell   Consumer  United States  Fort Lauderdale  ...   \n",
            "\n",
            "  Postal Code  Region       Product ID         Category Sub-Category  \\\n",
            "0       42420   South  FUR-BO-10001798        Furniture    Bookcases   \n",
            "1       42420   South  FUR-CH-10000454        Furniture       Chairs   \n",
            "2       90036    West  OFF-LA-10000240  Office Supplies       Labels   \n",
            "3       33311   South  FUR-TA-10000577        Furniture       Tables   \n",
            "4       33311   South  OFF-ST-10000760  Office Supplies      Storage   \n",
            "\n",
            "                                        Product Name     Sales  Quantity  \\\n",
            "0                  Bush Somerset Collection Bookcase  261.9600         2   \n",
            "1  Hon Deluxe Fabric Upholstered Stacking Chairs,...  731.9400         3   \n",
            "2  Self-Adhesive Address Labels for Typewriters b...   14.6200         2   \n",
            "3      Bretford CR4500 Series Slim Rectangular Table  957.5775         5   \n",
            "4                     Eldon Fold 'N Roll Cart System   22.3680         2   \n",
            "\n",
            "   Discount    Profit  \n",
            "0      0.00   41.9136  \n",
            "1      0.00  219.5820  \n",
            "2      0.00    6.8714  \n",
            "3      0.45 -383.0310  \n",
            "4      0.20    2.5164  \n",
            "\n",
            "[5 rows x 21 columns]\n",
            "      Row ID        Order ID Order Date Ship Date       Ship Mode Customer ID  \\\n",
            "9991    9992  CA-2017-121258  2/26/2017  3/3/2017  Standard Class    DB-13060   \n",
            "9992    9993  CA-2017-121258  2/26/2017  3/3/2017  Standard Class    DB-13060   \n",
            "9993    9994  CA-2017-119914   5/4/2017  5/9/2017    Second Class    CC-12220   \n",
            "\n",
            "     Customer Name   Segment        Country         City  ... Postal Code  \\\n",
            "9991   Dave Brooks  Consumer  United States   Costa Mesa  ...       92627   \n",
            "9992   Dave Brooks  Consumer  United States   Costa Mesa  ...       92627   \n",
            "9993  Chris Cortes  Consumer  United States  Westminster  ...       92683   \n",
            "\n",
            "      Region       Product ID         Category Sub-Category  \\\n",
            "9991    West  TEC-PH-10003645       Technology       Phones   \n",
            "9992    West  OFF-PA-10004041  Office Supplies        Paper   \n",
            "9993    West  OFF-AP-10002684  Office Supplies   Appliances   \n",
            "\n",
            "                                           Product Name    Sales  Quantity  \\\n",
            "9991                              Aastra 57i VoIP phone  258.576         2   \n",
            "9992  It's Hot Message Books with Stickers, 2 3/4\" x 5\"   29.600         4   \n",
            "9993  Acco 7-Outlet Masterpiece Power Center, Wihtou...  243.160         2   \n",
            "\n",
            "      Discount   Profit  \n",
            "9991       0.2  19.3932  \n",
            "9992       0.0  13.3200  \n",
            "9993       0.0  72.9480  \n",
            "\n",
            "[3 rows x 21 columns]\n"
          ]
        }
      ]
    },
    {
      "cell_type": "code",
      "source": [
        "df.info()"
      ],
      "metadata": {
        "colab": {
          "base_uri": "https://localhost:8080/"
        },
        "id": "-9OUQFNGA1nl",
        "outputId": "9c09deb8-e87d-467e-d257-03a2b49d9395"
      },
      "execution_count": null,
      "outputs": [
        {
          "output_type": "stream",
          "name": "stdout",
          "text": [
            "<class 'pandas.core.frame.DataFrame'>\n",
            "RangeIndex: 9994 entries, 0 to 9993\n",
            "Data columns (total 21 columns):\n",
            " #   Column         Non-Null Count  Dtype  \n",
            "---  ------         --------------  -----  \n",
            " 0   Row ID         9994 non-null   int64  \n",
            " 1   Order ID       9994 non-null   object \n",
            " 2   Order Date     9994 non-null   object \n",
            " 3   Ship Date      9994 non-null   object \n",
            " 4   Ship Mode      9994 non-null   object \n",
            " 5   Customer ID    9994 non-null   object \n",
            " 6   Customer Name  9994 non-null   object \n",
            " 7   Segment        9994 non-null   object \n",
            " 8   Country        9994 non-null   object \n",
            " 9   City           9994 non-null   object \n",
            " 10  State          9994 non-null   object \n",
            " 11  Postal Code    9994 non-null   int64  \n",
            " 12  Region         9994 non-null   object \n",
            " 13  Product ID     9994 non-null   object \n",
            " 14  Category       9994 non-null   object \n",
            " 15  Sub-Category   9994 non-null   object \n",
            " 16  Product Name   9994 non-null   object \n",
            " 17  Sales          9994 non-null   float64\n",
            " 18  Quantity       9994 non-null   int64  \n",
            " 19  Discount       9994 non-null   float64\n",
            " 20  Profit         9994 non-null   float64\n",
            "dtypes: float64(3), int64(3), object(15)\n",
            "memory usage: 1.6+ MB\n"
          ]
        }
      ]
    },
    {
      "cell_type": "code",
      "source": [
        "print(df.isnull().sum())  ## based on the results, only 'Postal Code' has 11 null values"
      ],
      "metadata": {
        "colab": {
          "base_uri": "https://localhost:8080/"
        },
        "id": "mN-WRH9BEt4g",
        "outputId": "1fbd4048-11f7-4567-f50d-ecfe754f9d9a"
      },
      "execution_count": null,
      "outputs": [
        {
          "output_type": "stream",
          "name": "stdout",
          "text": [
            "Row ID           0\n",
            "Order ID         0\n",
            "Order Date       0\n",
            "Ship Date        0\n",
            "Ship Mode        0\n",
            "Customer ID      0\n",
            "Customer Name    0\n",
            "Segment          0\n",
            "Country          0\n",
            "City             0\n",
            "State            0\n",
            "Postal Code      0\n",
            "Region           0\n",
            "Product ID       0\n",
            "Category         0\n",
            "Sub-Category     0\n",
            "Product Name     0\n",
            "Sales            0\n",
            "Quantity         0\n",
            "Discount         0\n",
            "Profit           0\n",
            "dtype: int64\n"
          ]
        }
      ]
    },
    {
      "cell_type": "code",
      "source": [
        "print(df.shape)  ## datasize"
      ],
      "metadata": {
        "colab": {
          "base_uri": "https://localhost:8080/"
        },
        "id": "4JeORgPYBJcL",
        "outputId": "a32e36c6-73ae-4117-8320-09ebe34e88c0"
      },
      "execution_count": null,
      "outputs": [
        {
          "output_type": "stream",
          "name": "stdout",
          "text": [
            "(9994, 21)\n"
          ]
        }
      ]
    },
    {
      "cell_type": "code",
      "source": [
        "print(df.describe(include='all'))"
      ],
      "metadata": {
        "colab": {
          "base_uri": "https://localhost:8080/"
        },
        "id": "9XyH2MBCBOlp",
        "outputId": "d7b38b71-3d6b-497e-c746-bc0a7128ded8"
      },
      "execution_count": null,
      "outputs": [
        {
          "output_type": "stream",
          "name": "stdout",
          "text": [
            "             Row ID        Order ID Order Date   Ship Date       Ship Mode  \\\n",
            "count   9994.000000            9994       9994        9994            9994   \n",
            "unique          NaN            5009       1237        1334               4   \n",
            "top             NaN  CA-2017-100111   9/5/2016  12/16/2015  Standard Class   \n",
            "freq            NaN              14         38          35            5968   \n",
            "mean    4997.500000             NaN        NaN         NaN             NaN   \n",
            "std     2885.163629             NaN        NaN         NaN             NaN   \n",
            "min        1.000000             NaN        NaN         NaN             NaN   \n",
            "25%     2499.250000             NaN        NaN         NaN             NaN   \n",
            "50%     4997.500000             NaN        NaN         NaN             NaN   \n",
            "75%     7495.750000             NaN        NaN         NaN             NaN   \n",
            "max     9994.000000             NaN        NaN         NaN             NaN   \n",
            "\n",
            "       Customer ID  Customer Name   Segment        Country           City  \\\n",
            "count         9994           9994      9994           9994           9994   \n",
            "unique         793            793         3              1            531   \n",
            "top       WB-21850  William Brown  Consumer  United States  New York City   \n",
            "freq            37             37      5191           9994            915   \n",
            "mean           NaN            NaN       NaN            NaN            NaN   \n",
            "std            NaN            NaN       NaN            NaN            NaN   \n",
            "min            NaN            NaN       NaN            NaN            NaN   \n",
            "25%            NaN            NaN       NaN            NaN            NaN   \n",
            "50%            NaN            NaN       NaN            NaN            NaN   \n",
            "75%            NaN            NaN       NaN            NaN            NaN   \n",
            "max            NaN            NaN       NaN            NaN            NaN   \n",
            "\n",
            "        ...   Postal Code  Region       Product ID         Category  \\\n",
            "count   ...   9994.000000    9994             9994             9994   \n",
            "unique  ...           NaN       4             1862                3   \n",
            "top     ...           NaN    West  OFF-PA-10001970  Office Supplies   \n",
            "freq    ...           NaN    3203               19             6026   \n",
            "mean    ...  55190.379428     NaN              NaN              NaN   \n",
            "std     ...  32063.693350     NaN              NaN              NaN   \n",
            "min     ...   1040.000000     NaN              NaN              NaN   \n",
            "25%     ...  23223.000000     NaN              NaN              NaN   \n",
            "50%     ...  56430.500000     NaN              NaN              NaN   \n",
            "75%     ...  90008.000000     NaN              NaN              NaN   \n",
            "max     ...  99301.000000     NaN              NaN              NaN   \n",
            "\n",
            "       Sub-Category     Product Name         Sales     Quantity     Discount  \\\n",
            "count          9994             9994   9994.000000  9994.000000  9994.000000   \n",
            "unique           17             1850           NaN          NaN          NaN   \n",
            "top         Binders  Staple envelope           NaN          NaN          NaN   \n",
            "freq           1523               48           NaN          NaN          NaN   \n",
            "mean            NaN              NaN    229.858001     3.789574     0.156203   \n",
            "std             NaN              NaN    623.245101     2.225110     0.206452   \n",
            "min             NaN              NaN      0.444000     1.000000     0.000000   \n",
            "25%             NaN              NaN     17.280000     2.000000     0.000000   \n",
            "50%             NaN              NaN     54.490000     3.000000     0.200000   \n",
            "75%             NaN              NaN    209.940000     5.000000     0.200000   \n",
            "max             NaN              NaN  22638.480000    14.000000     0.800000   \n",
            "\n",
            "             Profit  \n",
            "count   9994.000000  \n",
            "unique          NaN  \n",
            "top             NaN  \n",
            "freq            NaN  \n",
            "mean      28.656896  \n",
            "std      234.260108  \n",
            "min    -6599.978000  \n",
            "25%        1.728750  \n",
            "50%        8.666500  \n",
            "75%       29.364000  \n",
            "max     8399.976000  \n",
            "\n",
            "[11 rows x 21 columns]\n"
          ]
        }
      ]
    },
    {
      "cell_type": "code",
      "source": [
        "columns = ['Order ID', 'Order Date', 'Ship Date', 'Ship Mode',\n",
        "       'Customer ID', 'Customer Name', 'Segment', 'Country', 'City', 'State',\n",
        "       'Postal Code', 'Region', 'Product ID', 'Category', 'Sub-Category', 'Product Name']\n",
        "for i in columns:\n",
        "  print(df[i].value_counts(normalize=True))"
      ],
      "metadata": {
        "colab": {
          "base_uri": "https://localhost:8080/"
        },
        "id": "Lbx6bHLBClKg",
        "outputId": "f43fca1a-784e-42ad-c11c-baa84aac0f39"
      },
      "execution_count": null,
      "outputs": [
        {
          "output_type": "stream",
          "name": "stdout",
          "text": [
            "Order ID\n",
            "CA-2017-100111    0.001401\n",
            "CA-2017-157987    0.001201\n",
            "CA-2016-165330    0.001101\n",
            "US-2016-108504    0.001101\n",
            "US-2015-126977    0.001001\n",
            "                    ...   \n",
            "CA-2014-110422    0.000100\n",
            "CA-2016-125794    0.000100\n",
            "CA-2017-163566    0.000100\n",
            "US-2015-151435    0.000100\n",
            "CA-2016-130225    0.000100\n",
            "Name: proportion, Length: 5009, dtype: float64\n",
            "Order Date\n",
            "9/5/2016      0.003802\n",
            "9/2/2017      0.003602\n",
            "11/10/2016    0.003502\n",
            "12/1/2017     0.003402\n",
            "12/2/2017     0.003402\n",
            "                ...   \n",
            "1/28/2016     0.000100\n",
            "11/9/2016     0.000100\n",
            "6/3/2016      0.000100\n",
            "4/12/2015     0.000100\n",
            "1/21/2014     0.000100\n",
            "Name: proportion, Length: 1237, dtype: float64\n",
            "Ship Date\n",
            "12/16/2015    0.003502\n",
            "9/26/2017     0.003402\n",
            "11/21/2017    0.003202\n",
            "12/6/2017     0.003202\n",
            "9/6/2017      0.003002\n",
            "                ...   \n",
            "2/19/2016     0.000100\n",
            "2/1/2015      0.000100\n",
            "8/25/2016     0.000100\n",
            "1/27/2014     0.000100\n",
            "1/23/2014     0.000100\n",
            "Name: proportion, Length: 1334, dtype: float64\n",
            "Ship Mode\n",
            "Standard Class    0.597158\n",
            "Second Class      0.194617\n",
            "First Class       0.153892\n",
            "Same Day          0.054333\n",
            "Name: proportion, dtype: float64\n",
            "Customer ID\n",
            "WB-21850    0.003702\n",
            "MA-17560    0.003402\n",
            "JL-15835    0.003402\n",
            "PP-18955    0.003402\n",
            "CK-12205    0.003202\n",
            "              ...   \n",
            "AO-10810    0.000100\n",
            "LD-16855    0.000100\n",
            "JR-15700    0.000100\n",
            "CJ-11875    0.000100\n",
            "RE-19405    0.000100\n",
            "Name: proportion, Length: 793, dtype: float64\n",
            "Customer Name\n",
            "William Brown          0.003702\n",
            "Matt Abelman           0.003402\n",
            "John Lee               0.003402\n",
            "Paul Prost             0.003402\n",
            "Chloris Kastensmidt    0.003202\n",
            "                         ...   \n",
            "Anthony O'Donnell      0.000100\n",
            "Lela Donovan           0.000100\n",
            "Jocasta Rupert         0.000100\n",
            "Carl Jackson           0.000100\n",
            "Ricardo Emerson        0.000100\n",
            "Name: proportion, Length: 793, dtype: float64\n",
            "Segment\n",
            "Consumer       0.519412\n",
            "Corporate      0.302181\n",
            "Home Office    0.178407\n",
            "Name: proportion, dtype: float64\n",
            "Country\n",
            "United States    1.0\n",
            "Name: proportion, dtype: float64\n",
            "City\n",
            "New York City    0.091555\n",
            "Los Angeles      0.074745\n",
            "Philadelphia     0.053732\n",
            "San Francisco    0.051031\n",
            "Seattle          0.042826\n",
            "                   ...   \n",
            "Abilene          0.000100\n",
            "Montebello       0.000100\n",
            "Kissimmee        0.000100\n",
            "Danbury          0.000100\n",
            "Springdale       0.000100\n",
            "Name: proportion, Length: 531, dtype: float64\n",
            "State\n",
            "California              0.200220\n",
            "New York                0.112868\n",
            "Texas                   0.098559\n",
            "Pennsylvania            0.058735\n",
            "Washington              0.050630\n",
            "Illinois                0.049230\n",
            "Ohio                    0.046928\n",
            "Florida                 0.038323\n",
            "Michigan                0.025515\n",
            "North Carolina          0.024915\n",
            "Arizona                 0.022413\n",
            "Virginia                0.022413\n",
            "Georgia                 0.018411\n",
            "Tennessee               0.018311\n",
            "Colorado                0.018211\n",
            "Indiana                 0.014909\n",
            "Kentucky                0.013908\n",
            "Massachusetts           0.013508\n",
            "New Jersey              0.013008\n",
            "Oregon                  0.012407\n",
            "Wisconsin               0.011007\n",
            "Maryland                0.010506\n",
            "Delaware                0.009606\n",
            "Minnesota               0.008905\n",
            "Connecticut             0.008205\n",
            "Missouri                0.006604\n",
            "Oklahoma                0.006604\n",
            "Alabama                 0.006104\n",
            "Arkansas                0.006004\n",
            "Rhode Island            0.005603\n",
            "Utah                    0.005303\n",
            "Mississippi             0.005303\n",
            "South Carolina          0.004203\n",
            "Louisiana               0.004203\n",
            "Nevada                  0.003902\n",
            "Nebraska                0.003802\n",
            "New Mexico              0.003702\n",
            "Iowa                    0.003002\n",
            "New Hampshire           0.002702\n",
            "Kansas                  0.002401\n",
            "Idaho                   0.002101\n",
            "Montana                 0.001501\n",
            "South Dakota            0.001201\n",
            "Vermont                 0.001101\n",
            "District of Columbia    0.001001\n",
            "Maine                   0.000800\n",
            "North Dakota            0.000700\n",
            "West Virginia           0.000400\n",
            "Wyoming                 0.000100\n",
            "Name: proportion, dtype: float64\n",
            "Postal Code\n",
            "10035    0.026316\n",
            "10024    0.023014\n",
            "10009    0.022914\n",
            "94122    0.020312\n",
            "10011    0.019312\n",
            "           ...   \n",
            "61761    0.000100\n",
            "79605    0.000100\n",
            "72762    0.000100\n",
            "8401     0.000100\n",
            "95616    0.000100\n",
            "Name: proportion, Length: 631, dtype: float64\n",
            "Region\n",
            "West       0.320492\n",
            "East       0.284971\n",
            "Central    0.232439\n",
            "South      0.162097\n",
            "Name: proportion, dtype: float64\n",
            "Product ID\n",
            "OFF-PA-10001970    0.001901\n",
            "TEC-AC-10003832    0.001801\n",
            "FUR-FU-10004270    0.001601\n",
            "FUR-CH-10002647    0.001501\n",
            "FUR-CH-10001146    0.001501\n",
            "                     ...   \n",
            "TEC-MA-10004552    0.000100\n",
            "TEC-MA-10003589    0.000100\n",
            "OFF-AP-10003099    0.000100\n",
            "TEC-PH-10002645    0.000100\n",
            "OFF-ST-10001627    0.000100\n",
            "Name: proportion, Length: 1862, dtype: float64\n",
            "Category\n",
            "Office Supplies    0.602962\n",
            "Furniture          0.212227\n",
            "Technology         0.184811\n",
            "Name: proportion, dtype: float64\n",
            "Sub-Category\n",
            "Binders        0.152391\n",
            "Paper          0.137082\n",
            "Furnishings    0.095757\n",
            "Phones         0.088953\n",
            "Storage        0.084651\n",
            "Art            0.079648\n",
            "Accessories    0.077547\n",
            "Chairs         0.061737\n",
            "Appliances     0.046628\n",
            "Labels         0.036422\n",
            "Tables         0.031919\n",
            "Envelopes      0.025415\n",
            "Bookcases      0.022814\n",
            "Fasteners      0.021713\n",
            "Supplies       0.019011\n",
            "Machines       0.011507\n",
            "Copiers        0.006804\n",
            "Name: proportion, dtype: float64\n",
            "Product Name\n",
            "Staple envelope                                                            0.004803\n",
            "Staples                                                                    0.004603\n",
            "Easy-staple paper                                                          0.004603\n",
            "Avery Non-Stick Binders                                                    0.002001\n",
            "Staples in misc. colors                                                    0.001901\n",
            "                                                                             ...   \n",
            "Xiaomi Mi3                                                                 0.000100\n",
            "Sanitaire Vibra Groomer IR Commercial Upright Vacuum, Replacement Belts    0.000100\n",
            "Holmes Harmony HEPA Air Purifier for 17 x 20 Room                          0.000100\n",
            "Avery Hi-Liter Pen Style Six-Color Fluorescent Set                         0.000100\n",
            "Eldon Jumbo ProFile Portable File Boxes Graphite/Black                     0.000100\n",
            "Name: proportion, Length: 1850, dtype: float64\n"
          ]
        }
      ]
    },
    {
      "cell_type": "markdown",
      "source": [
        "## Null & duplicated values"
      ],
      "metadata": {
        "id": "D13TZ0wWJSyL"
      }
    },
    {
      "cell_type": "code",
      "source": [
        "#find the column with the number of missing values\n",
        "df.isna().sum()"
      ],
      "metadata": {
        "colab": {
          "base_uri": "https://localhost:8080/",
          "height": 742
        },
        "id": "TICScfCQG4Ja",
        "outputId": "2dbcf77a-59df-4a05-8912-7e8fde87e6fe"
      },
      "execution_count": null,
      "outputs": [
        {
          "output_type": "execute_result",
          "data": {
            "text/plain": [
              "Row ID           0\n",
              "Order ID         0\n",
              "Order Date       0\n",
              "Ship Date        0\n",
              "Ship Mode        0\n",
              "Customer ID      0\n",
              "Customer Name    0\n",
              "Segment          0\n",
              "Country          0\n",
              "City             0\n",
              "State            0\n",
              "Postal Code      0\n",
              "Region           0\n",
              "Product ID       0\n",
              "Category         0\n",
              "Sub-Category     0\n",
              "Product Name     0\n",
              "Sales            0\n",
              "Quantity         0\n",
              "Discount         0\n",
              "Profit           0\n",
              "dtype: int64"
            ],
            "text/html": [
              "<div>\n",
              "<style scoped>\n",
              "    .dataframe tbody tr th:only-of-type {\n",
              "        vertical-align: middle;\n",
              "    }\n",
              "\n",
              "    .dataframe tbody tr th {\n",
              "        vertical-align: top;\n",
              "    }\n",
              "\n",
              "    .dataframe thead th {\n",
              "        text-align: right;\n",
              "    }\n",
              "</style>\n",
              "<table border=\"1\" class=\"dataframe\">\n",
              "  <thead>\n",
              "    <tr style=\"text-align: right;\">\n",
              "      <th></th>\n",
              "      <th>0</th>\n",
              "    </tr>\n",
              "  </thead>\n",
              "  <tbody>\n",
              "    <tr>\n",
              "      <th>Row ID</th>\n",
              "      <td>0</td>\n",
              "    </tr>\n",
              "    <tr>\n",
              "      <th>Order ID</th>\n",
              "      <td>0</td>\n",
              "    </tr>\n",
              "    <tr>\n",
              "      <th>Order Date</th>\n",
              "      <td>0</td>\n",
              "    </tr>\n",
              "    <tr>\n",
              "      <th>Ship Date</th>\n",
              "      <td>0</td>\n",
              "    </tr>\n",
              "    <tr>\n",
              "      <th>Ship Mode</th>\n",
              "      <td>0</td>\n",
              "    </tr>\n",
              "    <tr>\n",
              "      <th>Customer ID</th>\n",
              "      <td>0</td>\n",
              "    </tr>\n",
              "    <tr>\n",
              "      <th>Customer Name</th>\n",
              "      <td>0</td>\n",
              "    </tr>\n",
              "    <tr>\n",
              "      <th>Segment</th>\n",
              "      <td>0</td>\n",
              "    </tr>\n",
              "    <tr>\n",
              "      <th>Country</th>\n",
              "      <td>0</td>\n",
              "    </tr>\n",
              "    <tr>\n",
              "      <th>City</th>\n",
              "      <td>0</td>\n",
              "    </tr>\n",
              "    <tr>\n",
              "      <th>State</th>\n",
              "      <td>0</td>\n",
              "    </tr>\n",
              "    <tr>\n",
              "      <th>Postal Code</th>\n",
              "      <td>0</td>\n",
              "    </tr>\n",
              "    <tr>\n",
              "      <th>Region</th>\n",
              "      <td>0</td>\n",
              "    </tr>\n",
              "    <tr>\n",
              "      <th>Product ID</th>\n",
              "      <td>0</td>\n",
              "    </tr>\n",
              "    <tr>\n",
              "      <th>Category</th>\n",
              "      <td>0</td>\n",
              "    </tr>\n",
              "    <tr>\n",
              "      <th>Sub-Category</th>\n",
              "      <td>0</td>\n",
              "    </tr>\n",
              "    <tr>\n",
              "      <th>Product Name</th>\n",
              "      <td>0</td>\n",
              "    </tr>\n",
              "    <tr>\n",
              "      <th>Sales</th>\n",
              "      <td>0</td>\n",
              "    </tr>\n",
              "    <tr>\n",
              "      <th>Quantity</th>\n",
              "      <td>0</td>\n",
              "    </tr>\n",
              "    <tr>\n",
              "      <th>Discount</th>\n",
              "      <td>0</td>\n",
              "    </tr>\n",
              "    <tr>\n",
              "      <th>Profit</th>\n",
              "      <td>0</td>\n",
              "    </tr>\n",
              "  </tbody>\n",
              "</table>\n",
              "</div><br><label><b>dtype:</b> int64</label>"
            ]
          },
          "metadata": {},
          "execution_count": 12
        }
      ]
    },
    {
      "cell_type": "code",
      "source": [
        "#find the number of duplicates\n",
        "df.duplicated().sum()"
      ],
      "metadata": {
        "colab": {
          "base_uri": "https://localhost:8080/"
        },
        "id": "s1QMNnp7f25k",
        "outputId": "feb53225-6117-460b-fea7-e1fda481dcf6"
      },
      "execution_count": null,
      "outputs": [
        {
          "output_type": "execute_result",
          "data": {
            "text/plain": [
              "np.int64(0)"
            ]
          },
          "metadata": {},
          "execution_count": 13
        }
      ]
    },
    {
      "cell_type": "markdown",
      "source": [
        "## Data Type Transfer"
      ],
      "metadata": {
        "id": "nRbfzmxbKCxt"
      }
    },
    {
      "cell_type": "code",
      "source": [
        "# datetime\n",
        "df['Order Date'] = pd.to_datetime(df['Order Date'], format='%m/%d/%Y')\n",
        "df['Ship Date'] = pd.to_datetime(df['Ship Date'], format='%m/%d/%Y')"
      ],
      "metadata": {
        "id": "3IGIhhuuXEGt"
      },
      "execution_count": null,
      "outputs": []
    },
    {
      "cell_type": "code",
      "source": [
        "# assign type 'str' to postal code\n",
        "df['Postal Code'] = df['Postal Code'].astype(str).str.replace('.', '')"
      ],
      "metadata": {
        "id": "hRcPC4L8Yg_5"
      },
      "execution_count": null,
      "outputs": []
    },
    {
      "cell_type": "code",
      "source": [
        "postal_code_lengths = df['Postal Code'].str.len()\n",
        "incorrect_length_mask = postal_code_lengths != 6\n",
        "\n",
        "#all postal codes' length are proper"
      ],
      "metadata": {
        "id": "tiTG8kvAhznT"
      },
      "execution_count": null,
      "outputs": []
    },
    {
      "cell_type": "markdown",
      "source": [
        "## Logic Check"
      ],
      "metadata": {
        "id": "hK_K2HtqcOfG"
      }
    },
    {
      "cell_type": "code",
      "source": [
        "# order_date <= ship_date\n",
        "\n",
        "is_ship_date_after_or_equal = df['Ship Date'] >= df['Order Date']\n",
        "print(is_ship_date_after_or_equal.value_counts())"
      ],
      "metadata": {
        "colab": {
          "base_uri": "https://localhost:8080/"
        },
        "id": "85Crx6RgcRIl",
        "outputId": "f713028f-ea00-4053-8038-66b9c41727f1"
      },
      "execution_count": null,
      "outputs": [
        {
          "output_type": "stream",
          "name": "stdout",
          "text": [
            "True    9994\n",
            "Name: count, dtype: int64\n"
          ]
        }
      ]
    },
    {
      "cell_type": "code",
      "source": [
        "# each city belong to the unique state\n",
        "city_state_unique_counts = df.groupby('City')['State'].nunique()\n",
        "\n",
        "cities_in_multiple_states = city_state_unique_counts[city_state_unique_counts > 1]\n",
        "\n",
        "print(\"\\n citys beling to more than 1 state:\")\n",
        "print(len(cities_in_multiple_states))"
      ],
      "metadata": {
        "colab": {
          "base_uri": "https://localhost:8080/"
        },
        "id": "-LodsHQzdXFV",
        "outputId": "ab7d69ba-f969-4e9d-a812-584b521b5fe3"
      },
      "execution_count": null,
      "outputs": [
        {
          "output_type": "stream",
          "name": "stdout",
          "text": [
            "\n",
            " citys beling to more than 1 state:\n",
            "57\n"
          ]
        }
      ]
    },
    {
      "cell_type": "code",
      "source": [
        "# add new column: city-state\n",
        "df['City_State'] = df['City'] + ' (' + df['State'] + ')'"
      ],
      "metadata": {
        "id": "y4YKjzKXfsRQ"
      },
      "execution_count": null,
      "outputs": []
    },
    {
      "cell_type": "code",
      "source": [
        "# sub-category belong to the uniqiue category\n",
        "sub_cat_cnt = df.groupby('Sub-Category')['Category'].nunique()\n",
        "\n",
        "greater_than_1_cat = sub_cat_cnt[sub_cat_cnt>1]\n",
        "print(greater_than_1_cat)\n",
        "\n",
        "# no unresonable sub-category"
      ],
      "metadata": {
        "colab": {
          "base_uri": "https://localhost:8080/"
        },
        "id": "SWD2bTQEegKr",
        "outputId": "05909fd2-e9b9-4b17-9cde-060867948e52"
      },
      "execution_count": null,
      "outputs": [
        {
          "output_type": "stream",
          "name": "stdout",
          "text": [
            "Series([], Name: Category, dtype: int64)\n"
          ]
        }
      ]
    },
    {
      "cell_type": "code",
      "source": [
        "# output\n",
        "df_processed = df.to_csv('processed_sales_0514.csv')"
      ],
      "metadata": {
        "id": "_5oJONdeguxi"
      },
      "execution_count": null,
      "outputs": []
    },
    {
      "cell_type": "markdown",
      "source": [],
      "metadata": {
        "id": "cVT-P9gyIUD9"
      }
    },
    {
      "cell_type": "markdown",
      "source": [
        "###Pareto Analysis（80/20）\n",
        "\n",
        "Purpose: To verify whether “the top 20% of customers contribute 80% of sales”.\n",
        "\n",
        "1. 分析步骤：\n",
        "按客户聚合销售额\n",
        "按销售额降序排序客户\n",
        "计算累计销售额占比\n",
        "识别累计前20%客户\n",
        "可视化累计销售贡献"
      ],
      "metadata": {
        "id": "jokbaxF_IUby"
      }
    },
    {
      "cell_type": "code",
      "source": [
        "import pandas as pd\n",
        "import matplotlib.pyplot as plt\n",
        "\n",
        "# read data\n",
        "df = pd.read_csv('/content/processed_sales_0514.csv', encoding='latin-1')\n",
        "\n",
        "# Step 1: Aggregate sales by customer\n",
        "customer_sales = df.groupby('Customer ID')['Sales'].sum().reset_index()\n",
        "\n",
        "# Step 2: Sort by sales\n",
        "customer_sales = customer_sales.sort_values(by='Sales', ascending=False).reset_index(drop=True)\n",
        "\n",
        "# Step 3: Calculate the cumulative sales share and customer share\n",
        "customer_sales['CumSales'] = customer_sales['Sales'].cumsum()\n",
        "customer_sales['SalesPct'] = customer_sales['CumSales'] / customer_sales['Sales'].sum()\n",
        "customer_sales['CustomerPct'] = (customer_sales.index + 1) / len(customer_sales)\n",
        "\n",
        "# Find the Pareto turning point (SalesPct >= 0.8)\n",
        "pareto_cutoff = customer_sales[customer_sales['SalesPct'] >= 0.8].iloc[0]\n",
        "print(f\"The proportion of customers required to achieve 80% of sales：{round(pareto_cutoff['CustomerPct'] * 100, 2)}%\")"
      ],
      "metadata": {
        "colab": {
          "base_uri": "https://localhost:8080/"
        },
        "id": "CYMlRtdzIVUq",
        "outputId": "f4b52624-df2e-41ec-80de-1acaedddb77a"
      },
      "execution_count": null,
      "outputs": [
        {
          "output_type": "stream",
          "name": "stdout",
          "text": [
            "The proportion of customers required to achieve 80% of sales：49.94%\n"
          ]
        }
      ]
    },
    {
      "cell_type": "code",
      "source": [
        "# Step 5: Visiulation\n",
        "plt.figure(figsize=(10, 6))\n",
        "plt.plot(customer_sales['CustomerPct'], customer_sales['SalesPct'], label='Cumulative sales share')\n",
        "plt.axhline(0.8, color='red', linestyle='--', label='80% Sales Line')\n",
        "plt.axvline(pareto_cutoff['CustomerPct'], color='green', linestyle='--', label='Key customer 20% line')\n",
        "plt.title('Pareto Analysis: Customer Sales Contribution')\n",
        "plt.xlabel('Cumulative customer share')\n",
        "plt.ylabel('Cumulative sales share')\n",
        "plt.legend()\n",
        "plt.grid(True)\n",
        "plt.tight_layout()\n",
        "plt.show()\n"
      ],
      "metadata": {
        "colab": {
          "base_uri": "https://localhost:8080/",
          "height": 607
        },
        "id": "n4Hd4LYlKXq3",
        "outputId": "ddc7585a-182c-490d-f913-be38ab84fa46"
      },
      "execution_count": null,
      "outputs": [
        {
          "output_type": "display_data",
          "data": {
            "text/plain": [
              "<Figure size 1000x600 with 1 Axes>"
            ],
            "image/png": "[encoded data removed]"
          },
          "metadata": {}
        }
      ]
    },
    {
      "cell_type": "markdown",
      "source": [],
      "metadata": {
        "id": "dDN9IYmbMLbp"
      }
    },
    {
      "cell_type": "markdown",
      "source": [
        "### RFM -- Customer Behavior Analysis"
      ],
      "metadata": {
        "id": "W4jT6VE5MMCM"
      }
    },
    {
      "cell_type": "code",
      "source": [
        "import pandas as pd\n",
        "import matplotlib.pyplot as plt\n",
        "import seaborn as sns\n",
        "\n",
        "# read data\n",
        "df = pd.read_csv('/content/processed_sales_0514.csv', encoding='latin-1', parse_dates=['Order Date'])\n",
        "\n",
        "# Set the analysis date (take the maximum order date in the data + 1 day)\n",
        "snapshot_date = df['Order Date'].max() + pd.Timedelta(days=1)\n",
        "\n",
        "# Calculate R/F/M by customer group\n",
        "rfm = df.groupby('Customer ID').agg({\n",
        "    'Order Date': lambda x: (snapshot_date - x.max()).days,  # Recency\n",
        "    'Order ID': 'nunique',                                   # Frequency\n",
        "    'Sales': 'sum'                                           # Monetary\n",
        "}).reset_index()\n",
        "\n",
        "# Rename the columns\n",
        "rfm.columns = ['Customer ID', 'Recency', 'Frequency', 'Monetary']\n",
        "\n"
      ],
      "metadata": {
        "id": "X_I7RBSVMQpE"
      },
      "execution_count": null,
      "outputs": []
    },
    {
      "cell_type": "code",
      "source": [
        "# Each dimension is divided into 5 points, with higher scores indicating more \"excellent\"\n",
        "rfm['R_Score'] = pd.qcut(rfm['Recency'], 5, labels=[5, 4, 3, 2, 1])\n",
        "rfm['F_Score'] = pd.qcut(rfm['Frequency'].rank(method='first'), 5, labels=[1, 2, 3, 4, 5])\n",
        "rfm['M_Score'] = pd.qcut(rfm['Monetary'], 5, labels=[1, 2, 3, 4, 5])\n",
        "\n",
        "# Calcuate total score\n",
        "rfm['RFM_Segment'] = rfm['R_Score'].astype(str) + rfm['F_Score'].astype(str) + rfm['M_Score'].astype(str)\n",
        "rfm['RFM_Score'] = rfm[['R_Score', 'F_Score', 'M_Score']].astype(int).sum(axis=1)\n"
      ],
      "metadata": {
        "id": "59g5inSzMwFo"
      },
      "execution_count": null,
      "outputs": []
    },
    {
      "cell_type": "code",
      "source": [
        "def rfm_level(score):\n",
        "    if score >= 13:\n",
        "        return 'Important high-value customers'\n",
        "    elif score >= 9:\n",
        "        return 'Potential customers'\n",
        "    elif score >= 5:\n",
        "        return 'Normal customers'\n",
        "    else:\n",
        "        return 'Lost customers'\n",
        "\n",
        "rfm['Segment'] = rfm['RFM_Score'].apply(rfm_level)\n"
      ],
      "metadata": {
        "id": "z2Br_euKM4NF"
      },
      "execution_count": null,
      "outputs": []
    },
    {
      "cell_type": "code",
      "source": [
        "plt.figure(figsize=(8, 6))\n",
        "sns.countplot(x='Segment', data=rfm, order=rfm['Segment'].value_counts().index, palette='Set2')\n",
        "plt.title('RFM customer segmentation')\n",
        "plt.xlabel('Customer Group')\n",
        "plt.ylabel('Number of customers')\n",
        "plt.xticks(rotation=30)\n",
        "plt.tight_layout()\n",
        "plt.show()\n"
      ],
      "metadata": {
        "colab": {
          "base_uri": "https://localhost:8080/",
          "height": 714
        },
        "id": "Vnq10JOJM6nx",
        "outputId": "8cc11b64-5314-456b-c162-e2df049dccab"
      },
      "execution_count": null,
      "outputs": [
        {
          "output_type": "stream",
          "name": "stderr",
          "text": [
            "<ipython-input-15-8d2b4a7042f1>:2: FutureWarning: \n",
            "\n",
            "Passing `palette` without assigning `hue` is deprecated and will be removed in v0.14.0. Assign the `x` variable to `hue` and set `legend=False` for the same effect.\n",
            "\n",
            "  sns.countplot(x='Segment', data=rfm, order=rfm['Segment'].value_counts().index, palette='Set2')\n"
          ]
        },
        {
          "output_type": "display_data",
          "data": {
            "text/plain": [
              "<Figure size 800x600 with 1 Axes>"
            ],
            "image/png": "[encoded data removed]"
          },
          "metadata": {}
        }
      ]
    }
  ]
}